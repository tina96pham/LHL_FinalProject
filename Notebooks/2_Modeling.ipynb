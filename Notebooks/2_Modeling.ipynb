{
 "cells": [
  {
   "cell_type": "markdown",
   "metadata": {},
   "source": [
    "### Libraries"
   ]
  },
  {
   "cell_type": "code",
   "execution_count": 1,
   "metadata": {},
   "outputs": [],
   "source": [
    "# Data Wrangling\n",
    "import pandas as pd\n",
    "import numpy as np\n",
    "\n",
    "# Data Visualization\n",
    "import matplotlib.pyplot as plt\n",
    "import seaborn as sns\n",
    "\n",
    "# Feature Engineering\n",
    "from sklearn.impute import SimpleImputer\n",
    "from sklearn.model_selection import train_test_split, StratifiedKFold, cross_val_score\n",
    "from sklearn.model_selection import KFold\n",
    "from sklearn.model_selection import cross_val_score\n",
    "from sklearn.preprocessing import StandardScaler, MinMaxScaler, OneHotEncoder\n",
    "from sklearn.decomposition import PCA\n",
    "from sklearn.svm import SVC\n",
    "from sklearn.feature_selection import SelectFromModel\n",
    "from sklearn.feature_selection import SequentialFeatureSelector\n",
    "\n",
    "\n",
    "# Modeling\n",
    "from sklearn.linear_model import LogisticRegression\n",
    "from sklearn.tree import DecisionTreeClassifier\n",
    "from sklearn.ensemble import ( AdaBoostClassifier,\n",
    "                                GradientBoostingClassifier,\n",
    "                                BaggingClassifier,\n",
    "                                RandomForestClassifier\n",
    ")\n",
    "from sklearn.neighbors import KNeighborsClassifier\n",
    "from sklearn.naive_bayes import GaussianNB\n",
    "from xgboost import XGBClassifier\n",
    "\n",
    "# Metric scores\n",
    "from sklearn.metrics import (f1_score,\n",
    "                            accuracy_score,\n",
    "                            recall_score,\n",
    "                            precision_score,\n",
    "                            confusion_matrix,\n",
    "                            roc_auc_score,\n",
    "                            plot_confusion_matrix,\n",
    "                            classification_report\n",
    ")\n",
    "\n",
    "\n",
    "# To impute missing values and handle modeling\n",
    "from sklearn.impute import KNNImputer\n",
    "from sklearn.preprocessing import StandardScaler\n",
    "from sklearn.decomposition import PCA\n",
    "from sklearn.linear_model import Ridge\n",
    "from sklearn.linear_model import Lasso\n",
    "from sklearn.metrics import r2_score\n",
    "from sklearn import preprocessing\n",
    "from sklearn.preprocessing import PolynomialFeatures\n",
    "from sklearn.model_selection import train_test_split\n",
    "from sklearn.model_selection import KFold\n",
    "from sklearn.model_selection import cross_val_score\n",
    "from sklearn.feature_selection import SelectKBest\n",
    "from sklearn.feature_selection import chi2\n",
    "\n",
    "\n",
    "# To be used for tuning the model\n",
    "from sklearn.model_selection import GridSearchCV, RandomizedSearchCV\n",
    "\n",
    "# To be used for creating pipelines and personalizing them\n",
    "from sklearn.pipeline import Pipeline\n",
    "from sklearn.compose import ColumnTransformer\n",
    "\n",
    "\n",
    "# To supress warnings\n",
    "import warnings\n",
    "\n",
    "warnings.filterwarnings(\"ignore\")"
   ]
  },
  {
   "cell_type": "markdown",
   "metadata": {},
   "source": [
    "### Import Data"
   ]
  },
  {
   "cell_type": "code",
   "execution_count": 2,
   "metadata": {},
   "outputs": [],
   "source": [
    "# read in the data\n",
    "bank_churn= pd.read_csv('/Users/tinapham/Desktop/lighthouse-data-notes/ProJect/LHL_FinalProject/Data/BankChurners.csv')\n"
   ]
  },
  {
   "cell_type": "markdown",
   "metadata": {},
   "source": [
    "#### Data Dictionary\n",
    "![Alt text](data_dictionary.png)"
   ]
  },
  {
   "cell_type": "markdown",
   "metadata": {},
   "source": [
    "### Data Preprocessing"
   ]
  },
  {
   "cell_type": "markdown",
   "metadata": {},
   "source": [
    "####                    Drop Irrelavant column"
   ]
  },
  {
   "cell_type": "code",
   "execution_count": 3,
   "metadata": {},
   "outputs": [
    {
     "name": "stdout",
     "output_type": "stream",
     "text": [
      "<class 'pandas.core.frame.DataFrame'>\n",
      "RangeIndex: 10127 entries, 0 to 10126\n",
      "Data columns (total 20 columns):\n",
      " #   Column                    Non-Null Count  Dtype  \n",
      "---  ------                    --------------  -----  \n",
      " 0   Attrition_Flag            10127 non-null  object \n",
      " 1   Customer_Age              10127 non-null  int64  \n",
      " 2   Gender                    10127 non-null  object \n",
      " 3   Dependent_count           10127 non-null  int64  \n",
      " 4   Education_Level           10127 non-null  object \n",
      " 5   Marital_Status            10127 non-null  object \n",
      " 6   Income_Category           10127 non-null  object \n",
      " 7   Card_Category             10127 non-null  object \n",
      " 8   Months_on_book            10127 non-null  int64  \n",
      " 9   Total_Relationship_Count  10127 non-null  int64  \n",
      " 10  Months_Inactive_12_mon    10127 non-null  int64  \n",
      " 11  Contacts_Count_12_mon     10127 non-null  int64  \n",
      " 12  Credit_Limit              10127 non-null  float64\n",
      " 13  Total_Revolving_Bal       10127 non-null  int64  \n",
      " 14  Avg_Open_To_Buy           10127 non-null  float64\n",
      " 15  Total_Amt_Chng_Q4_Q1      10127 non-null  float64\n",
      " 16  Total_Trans_Amt           10127 non-null  int64  \n",
      " 17  Total_Trans_Ct            10127 non-null  int64  \n",
      " 18  Total_Ct_Chng_Q4_Q1       10127 non-null  float64\n",
      " 19  Avg_Utilization_Ratio     10127 non-null  float64\n",
      "dtypes: float64(5), int64(9), object(6)\n",
      "memory usage: 1.5+ MB\n"
     ]
    }
   ],
   "source": [
    "# Drop ['CLIENTNUM']\n",
    "bank_churn= bank_churn.drop(columns='CLIENTNUM')\n",
    "# Drop the last 2 columns in the DataFrame\n",
    "bank_churn = bank_churn.iloc[:, :-2]\n",
    "# Checking the DataFrame\n",
    "bank_churn.info()"
   ]
  },
  {
   "cell_type": "code",
   "execution_count": 4,
   "metadata": {},
   "outputs": [],
   "source": [
    "# Filter out data categorical data\n",
    "category=bank_churn.select_dtypes(exclude=np.number)\n",
    "# Drop categorical feature\n",
    "numerical= bank_churn.drop(columns=category)"
   ]
  },
  {
   "cell_type": "markdown",
   "metadata": {},
   "source": [
    "### Data Cleaning"
   ]
  },
  {
   "cell_type": "markdown",
   "metadata": {},
   "source": [
    "- Unknown data in object datatype but does not contribute to any missing data in numerical data. The unknown category will be kept as is.\n",
    "- Outlier observe from distribution plot in EDA:\n",
    "    - ['Total_Amt_Chng_Q4_Q1']>=2.5\n",
    "    - ['Total_Ct_Chng_Q4_Q1']>=2.7\n",
    "    - ['Total_Trans_Ct']>=135\n",
    "- To be remove in data preprocessing prior to modeling"
   ]
  },
  {
   "cell_type": "code",
   "execution_count": 5,
   "metadata": {},
   "outputs": [
    {
     "name": "stdout",
     "output_type": "stream",
     "text": [
      "Number of data for modeling: 10115\n"
     ]
    }
   ],
   "source": [
    "# Create a model data frame and removing outlier\n",
    "model_df= bank_churn.copy()\n",
    "model_df= model_df[model_df['Total_Amt_Chng_Q4_Q1']<=2.5]\n",
    "model_df= model_df[model_df['Total_Ct_Chng_Q4_Q1']<=2.7]\n",
    "model_df= model_df[model_df['Total_Trans_Ct']<=135]\n",
    "\n",
    "print('Number of data for modeling:',model_df.shape[0])"
   ]
  },
  {
   "cell_type": "markdown",
   "metadata": {},
   "source": [
    "### Data Preprocessig"
   ]
  },
  {
   "cell_type": "code",
   "execution_count": 6,
   "metadata": {},
   "outputs": [],
   "source": [
    "# Set target and encoding y\n",
    "y= model_df['Attrition_Flag'].replace(to_replace={'Attrited Customer': 1, 'Existing Customer': 0})\n",
    "# Drop target variable and with no significant different in EDA\n",
    "drop_column= ['Attrition_Flag','Months_on_book', 'Dependent_count','Avg_Open_To_Buy', 'Total_Trans_Ct']\n",
    "X = model_df.drop(columns=drop_column)"
   ]
  },
  {
   "cell_type": "code",
   "execution_count": 7,
   "metadata": {},
   "outputs": [],
   "source": [
    "# set dummy variables to categorical data\n",
    "X = pd.get_dummies(\n",
    "    data=X,\n",
    "    columns=[\n",
    "        \"Gender\",\n",
    "        \"Education_Level\",  # has missing values\n",
    "        \"Marital_Status\",  # has missing val\n",
    "        \"Income_Category\",\n",
    "        \"Card_Category\",\n",
    "    ],\n",
    "    drop_first=True,\n",
    ")"
   ]
  },
  {
   "cell_type": "code",
   "execution_count": 8,
   "metadata": {},
   "outputs": [
    {
     "name": "stdout",
     "output_type": "stream",
     "text": [
      "<class 'pandas.core.frame.DataFrame'>\n",
      "Int64Index: 10115 entries, 0 to 10126\n",
      "Data columns (total 28 columns):\n",
      " #   Column                          Non-Null Count  Dtype  \n",
      "---  ------                          --------------  -----  \n",
      " 0   Customer_Age                    10115 non-null  int64  \n",
      " 1   Total_Relationship_Count        10115 non-null  int64  \n",
      " 2   Months_Inactive_12_mon          10115 non-null  int64  \n",
      " 3   Contacts_Count_12_mon           10115 non-null  int64  \n",
      " 4   Credit_Limit                    10115 non-null  float64\n",
      " 5   Total_Revolving_Bal             10115 non-null  int64  \n",
      " 6   Total_Amt_Chng_Q4_Q1            10115 non-null  float64\n",
      " 7   Total_Trans_Amt                 10115 non-null  int64  \n",
      " 8   Total_Ct_Chng_Q4_Q1             10115 non-null  float64\n",
      " 9   Avg_Utilization_Ratio           10115 non-null  float64\n",
      " 10  Gender_M                        10115 non-null  uint8  \n",
      " 11  Education_Level_Doctorate       10115 non-null  uint8  \n",
      " 12  Education_Level_Graduate        10115 non-null  uint8  \n",
      " 13  Education_Level_High School     10115 non-null  uint8  \n",
      " 14  Education_Level_Post-Graduate   10115 non-null  uint8  \n",
      " 15  Education_Level_Uneducated      10115 non-null  uint8  \n",
      " 16  Education_Level_Unknown         10115 non-null  uint8  \n",
      " 17  Marital_Status_Married          10115 non-null  uint8  \n",
      " 18  Marital_Status_Single           10115 non-null  uint8  \n",
      " 19  Marital_Status_Unknown          10115 non-null  uint8  \n",
      " 20  Income_Category_$40K - $60K     10115 non-null  uint8  \n",
      " 21  Income_Category_$60K - $80K     10115 non-null  uint8  \n",
      " 22  Income_Category_$80K - $120K    10115 non-null  uint8  \n",
      " 23  Income_Category_Less than $40K  10115 non-null  uint8  \n",
      " 24  Income_Category_Unknown         10115 non-null  uint8  \n",
      " 25  Card_Category_Gold              10115 non-null  uint8  \n",
      " 26  Card_Category_Platinum          10115 non-null  uint8  \n",
      " 27  Card_Category_Silver            10115 non-null  uint8  \n",
      "dtypes: float64(4), int64(6), uint8(18)\n",
      "memory usage: 1.0 MB\n"
     ]
    }
   ],
   "source": [
    "X.info()"
   ]
  },
  {
   "cell_type": "markdown",
   "metadata": {},
   "source": [
    "### Modeling"
   ]
  },
  {
   "cell_type": "markdown",
   "metadata": {},
   "source": [
    "#### Split data\n",
    "- With imbalance in class from target value, with 16.1% attrited customer, K-fold stratified validiation will be included to consider for class imbalance\n",
    "- Split data into 3 set:\n",
    "    - test set\n",
    "    - train set\n",
    "    - validation set"
   ]
  },
  {
   "cell_type": "code",
   "execution_count": 9,
   "metadata": {},
   "outputs": [],
   "source": [
    "# Split data into training and test set\n",
    "X_training, X_test, y_training, y_test = train_test_split(X, y, test_size=0.2, random_state=42, stratify=y)\n",
    "# Split training dataset into training and validation\n",
    "X_train, X_val, y_train, y_val = train_test_split(X_training, y_training, test_size=0.25, random_state=42, stratify=y_training)\n"
   ]
  },
  {
   "cell_type": "code",
   "execution_count": 10,
   "metadata": {},
   "outputs": [
    {
     "name": "stdout",
     "output_type": "stream",
     "text": [
      "Value counts for Train Data:\n",
      "0    0.839018\n",
      "1    0.160982\n",
      "Name: Attrition_Flag, dtype: float64\n",
      "========================================\n",
      "\n",
      "Value counts for Validation Data:\n",
      "0    0.839348\n",
      "1    0.160652\n",
      "Name: Attrition_Flag, dtype: float64\n",
      "========================================\n",
      "\n",
      "Value counts for Test Data:\n",
      "0    0.839348\n",
      "1    0.160652\n",
      "Name: Attrition_Flag, dtype: float64\n",
      "========================================\n",
      "\n"
     ]
    }
   ],
   "source": [
    "datasets = {\n",
    "    'Train Data': y_train,\n",
    "    'Validation Data': y_val,\n",
    "    'Test Data': y_test\n",
    "}\n",
    "\n",
    "for dataset_name, data in datasets.items():\n",
    "    value_counts = data.value_counts(normalize=True)\n",
    "    print(f\"Value counts for {dataset_name}:\\n{value_counts}\\n{'='*40}\\n\")"
   ]
  },
  {
   "cell_type": "code",
   "execution_count": 11,
   "metadata": {},
   "outputs": [],
   "source": [
    "# Standardize Data\n",
    "scaler= StandardScaler()\n",
    "X_train_std= scaler.fit_transform(X_train)\n"
   ]
  },
  {
   "cell_type": "code",
   "execution_count": 12,
   "metadata": {},
   "outputs": [],
   "source": [
    "X_val_std= scaler.transform(X_val)\n",
    "X_test_std= scaler.transform(X_test)"
   ]
  },
  {
   "cell_type": "markdown",
   "metadata": {},
   "source": [
    "### Model Selection"
   ]
  },
  {
   "cell_type": "code",
   "execution_count": 44,
   "metadata": {},
   "outputs": [
    {
     "data": {
      "text/html": [
       "<div>\n",
       "<style scoped>\n",
       "    .dataframe tbody tr th:only-of-type {\n",
       "        vertical-align: middle;\n",
       "    }\n",
       "\n",
       "    .dataframe tbody tr th {\n",
       "        vertical-align: top;\n",
       "    }\n",
       "\n",
       "    .dataframe thead th {\n",
       "        text-align: right;\n",
       "    }\n",
       "</style>\n",
       "<table border=\"1\" class=\"dataframe\">\n",
       "  <thead>\n",
       "    <tr style=\"text-align: right;\">\n",
       "      <th></th>\n",
       "      <th>Algorithm</th>\n",
       "      <th>ROC AUC Mean</th>\n",
       "      <th>ROC AUC STD</th>\n",
       "      <th>Accuracy Mean</th>\n",
       "      <th>Accuracy STD</th>\n",
       "      <th>Recall Mean</th>\n",
       "      <th>Recall STD</th>\n",
       "    </tr>\n",
       "  </thead>\n",
       "  <tbody>\n",
       "    <tr>\n",
       "      <th>6</th>\n",
       "      <td>XGBoost</td>\n",
       "      <td>98.19</td>\n",
       "      <td>0.46</td>\n",
       "      <td>94.99</td>\n",
       "      <td>0.78</td>\n",
       "      <td>76.87</td>\n",
       "      <td>3.97</td>\n",
       "    </tr>\n",
       "    <tr>\n",
       "      <th>5</th>\n",
       "      <td>Random Forest</td>\n",
       "      <td>97.60</td>\n",
       "      <td>0.70</td>\n",
       "      <td>94.27</td>\n",
       "      <td>0.84</td>\n",
       "      <td>70.92</td>\n",
       "      <td>5.10</td>\n",
       "    </tr>\n",
       "    <tr>\n",
       "      <th>1</th>\n",
       "      <td>SVM</td>\n",
       "      <td>88.64</td>\n",
       "      <td>1.08</td>\n",
       "      <td>89.49</td>\n",
       "      <td>0.68</td>\n",
       "      <td>41.55</td>\n",
       "      <td>3.16</td>\n",
       "    </tr>\n",
       "    <tr>\n",
       "      <th>4</th>\n",
       "      <td>Decision Tree Classifier</td>\n",
       "      <td>84.98</td>\n",
       "      <td>2.32</td>\n",
       "      <td>92.11</td>\n",
       "      <td>0.96</td>\n",
       "      <td>75.54</td>\n",
       "      <td>4.21</td>\n",
       "    </tr>\n",
       "    <tr>\n",
       "      <th>0</th>\n",
       "      <td>Logistic Regression</td>\n",
       "      <td>84.78</td>\n",
       "      <td>1.99</td>\n",
       "      <td>88.53</td>\n",
       "      <td>1.04</td>\n",
       "      <td>42.47</td>\n",
       "      <td>3.82</td>\n",
       "    </tr>\n",
       "    <tr>\n",
       "      <th>3</th>\n",
       "      <td>Naive Bayes Classifier</td>\n",
       "      <td>80.19</td>\n",
       "      <td>2.11</td>\n",
       "      <td>85.53</td>\n",
       "      <td>1.18</td>\n",
       "      <td>49.23</td>\n",
       "      <td>4.47</td>\n",
       "    </tr>\n",
       "    <tr>\n",
       "      <th>2</th>\n",
       "      <td>KNN</td>\n",
       "      <td>76.20</td>\n",
       "      <td>2.44</td>\n",
       "      <td>86.04</td>\n",
       "      <td>0.92</td>\n",
       "      <td>25.08</td>\n",
       "      <td>3.79</td>\n",
       "    </tr>\n",
       "  </tbody>\n",
       "</table>\n",
       "</div>"
      ],
      "text/plain": [
       "                  Algorithm  ROC AUC Mean  ROC AUC STD  Accuracy Mean  \\\n",
       "6                   XGBoost         98.19         0.46          94.99   \n",
       "5             Random Forest         97.60         0.70          94.27   \n",
       "1                       SVM         88.64         1.08          89.49   \n",
       "4  Decision Tree Classifier         84.98         2.32          92.11   \n",
       "0       Logistic Regression         84.78         1.99          88.53   \n",
       "3    Naive Bayes Classifier         80.19         2.11          85.53   \n",
       "2                       KNN         76.20         2.44          86.04   \n",
       "\n",
       "   Accuracy STD  Recall Mean  Recall STD  \n",
       "6          0.78        76.87        3.97  \n",
       "5          0.84        70.92        5.10  \n",
       "1          0.68        41.55        3.16  \n",
       "4          0.96        75.54        4.21  \n",
       "0          1.04        42.47        3.82  \n",
       "3          1.18        49.23        4.47  \n",
       "2          0.92        25.08        3.79  "
      ]
     },
     "execution_count": 44,
     "metadata": {},
     "output_type": "execute_result"
    }
   ],
   "source": [
    "# Define models\n",
    "models = []\n",
    "models.append(('Logistic Regression', LogisticRegression()))\n",
    "models.append(('SVM', SVC()))\n",
    "models.append(('KNN', KNeighborsClassifier()))\n",
    "models.append(('Naive Bayes Classifier', GaussianNB()))\n",
    "models.append(('Decision Tree Classifier', DecisionTreeClassifier()))\n",
    "models.append(('Random Forest', RandomForestClassifier()))\n",
    "models.append(('XGBoost', GradientBoostingClassifier()))\n",
    "\n",
    "# Model Evaluation \n",
    "acc_results = []\n",
    "auc_results = []\n",
    "recall_results= []\n",
    "#cross_val_score_train=[]\n",
    "names = []\n",
    "\n",
    "# Dataframe of results\n",
    "col = ['Algorithm', 'ROC AUC Mean', 'ROC AUC STD', 'Accuracy Mean', 'Accuracy STD', 'Recall Mean', 'Recall STD']\n",
    "model_results = pd.DataFrame(columns=col)\n",
    "i = 0\n",
    "# K-fold validation of model\n",
    "for name, model in models:\n",
    "    kfold = StratifiedKFold(n_splits=10)\n",
    "    # accuracy:\n",
    "    cv_acc_results = cross_val_score(model, X_train_std, y_train, cv = kfold, scoring = 'accuracy')\n",
    "    # recall:\n",
    "    cv_recall_results = cross_val_score(model, X_train_std, y_train, cv = kfold, scoring = 'recall')\n",
    "    # roc_auc:\n",
    "    cv_auc_results = cross_val_score(model, X_train_std, y_train, cv = kfold, scoring = 'roc_auc')\n",
    "    acc_results.append(cv_acc_results)\n",
    "    auc_results.append(cv_auc_results)\n",
    "    names.append(name)\n",
    "    model_results.loc[i] = [name, round(cv_auc_results.mean()*100, 2), round(cv_auc_results.std()*100, 2),\n",
    "                            round(cv_acc_results.mean()*100, 2), round(cv_acc_results.std()*100, 2),\n",
    "                            round(cv_recall_results.mean()*100, 2),round(cv_recall_results.std()*100, 2) ]\n",
    "    i += 1\n",
    "    \n",
    "model_results.sort_values(by=['ROC AUC Mean'], ascending=False)\n"
   ]
  },
  {
   "cell_type": "code",
   "execution_count": null,
   "metadata": {},
   "outputs": [],
   "source": []
  },
  {
   "cell_type": "markdown",
   "metadata": {},
   "source": [
    "- XGboost is the best model"
   ]
  },
  {
   "cell_type": "markdown",
   "metadata": {},
   "source": [
    "### Model Training"
   ]
  },
  {
   "cell_type": "code",
   "execution_count": 124,
   "metadata": {},
   "outputs": [],
   "source": [
    "#=========================================================================\n",
    "# XGBoost Classification: \n",
    "# Parameters: \n",
    "# n_estimators      \"Number of gradient boosted trees. Equivalent to number \n",
    "#                   of boosting rounds.\"\n",
    "# learning_rate     \"Boosting learning rate (also known as “eta”)\"\n",
    "# max_depth         \"Maximum depth of a tree. Increasing this value will make \n",
    "#                   the model more complex and more likely to overfit.\" \n",
    "# scale_pos_weight  \"Penalty for misclassification of the minority class,\n",
    "#                   to improve the performance on imbalanced dataset\"\n",
    "# gamma             \"Regularization parameter that controls the number of \n",
    "#                   splits within a tree to reduce overfitting\"\n",
    "# reg_lambda        \"Regularization parameter to prevent overfitting by \n",
    "#                   penalizing large weights in the model\"\n",
    "#=========================================================================\n",
    "classifier = XGBClassifier(eval_metric=recall_score)\n"
   ]
  },
  {
   "cell_type": "markdown",
   "metadata": {},
   "source": [
    "##### Base Model"
   ]
  },
  {
   "cell_type": "code",
   "execution_count": 139,
   "metadata": {},
   "outputs": [
    {
     "data": {
      "text/plain": [
       "XGBClassifier(base_score=None, booster=None, callbacks=None,\n",
       "              colsample_bylevel=None, colsample_bynode=None,\n",
       "              colsample_bytree=None, early_stopping_rounds=None,\n",
       "              enable_categorical=False,\n",
       "              eval_metric=<function recall_score at 0x15d0e0160>,\n",
       "              feature_types=None, gamma=None, gpu_id=None, grow_policy=None,\n",
       "              importance_type=None, interaction_constraints=None,\n",
       "              learning_rate=None, max_bin=None, max_cat_threshold=None,\n",
       "              max_cat_to_onehot=None, max_delta_step=None, max_depth=None,\n",
       "              max_leaves=None, min_child_weight=None, missing=nan,\n",
       "              monotone_constraints=None, n_estimators=100, n_jobs=None,\n",
       "              num_parallel_tree=None, predictor=None, random_state=None, ...)"
      ]
     },
     "execution_count": 139,
     "metadata": {},
     "output_type": "execute_result"
    }
   ],
   "source": [
    "xgb= XGBClassifier(eval_metric=recall_score)\n",
    "xgb.fit(X_train_std, y_train)"
   ]
  },
  {
   "cell_type": "code",
   "execution_count": 148,
   "metadata": {},
   "outputs": [],
   "source": [
    "training_pred= xgb.predict(X_train_std)"
   ]
  },
  {
   "cell_type": "code",
   "execution_count": 150,
   "metadata": {},
   "outputs": [
    {
     "data": {
      "text/plain": [
       "<sklearn.metrics._plot.confusion_matrix.ConfusionMatrixDisplay at 0x2801ce700>"
      ]
     },
     "execution_count": 150,
     "metadata": {},
     "output_type": "execute_result"
    },
    {
     "data": {
      "image/png": "[encoded data removed]",
      "text/plain": [
       "<Figure size 640x480 with 2 Axes>"
      ]
     },
     "metadata": {},
     "output_type": "display_data"
    }
   ],
   "source": [
    "plot_confusion_matrix(xgb, X_train_std,y_train)"
   ]
  },
  {
   "cell_type": "code",
   "execution_count": 154,
   "metadata": {},
   "outputs": [
    {
     "name": "stdout",
     "output_type": "stream",
     "text": [
      "              precision    recall  f1-score   support\n",
      "\n",
      "    Existing       1.00      1.00      1.00      5092\n",
      "    Attrited       1.00      1.00      1.00       977\n",
      "\n",
      "    accuracy                           1.00      6069\n",
      "   macro avg       1.00      1.00      1.00      6069\n",
      "weighted avg       1.00      1.00      1.00      6069\n",
      "\n"
     ]
    }
   ],
   "source": [
    "target_names= ['Existing','Attrited']\n",
    "print(classification_report(y_train, training_pred, target_names=target_names))"
   ]
  },
  {
   "cell_type": "code",
   "execution_count": 155,
   "metadata": {},
   "outputs": [
    {
     "data": {
      "text/plain": [
       "<sklearn.metrics._plot.confusion_matrix.ConfusionMatrixDisplay at 0x280732ca0>"
      ]
     },
     "execution_count": 155,
     "metadata": {},
     "output_type": "execute_result"
    },
    {
     "data": {
      "image/png": "[encoded data removed]",
      "text/plain": [
       "<Figure size 640x480 with 2 Axes>"
      ]
     },
     "metadata": {},
     "output_type": "display_data"
    }
   ],
   "source": [
    "plot_confusion_matrix(xgb, X_val_std,y_val)"
   ]
  },
  {
   "cell_type": "code",
   "execution_count": 144,
   "metadata": {},
   "outputs": [
    {
     "name": "stdout",
     "output_type": "stream",
     "text": [
      "              precision    recall  f1-score   support\n",
      "\n",
      "    Existing       0.97      0.98      0.98      1698\n",
      "    Attrited       0.90      0.87      0.89       325\n",
      "\n",
      "    accuracy                           0.96      2023\n",
      "   macro avg       0.94      0.93      0.93      2023\n",
      "weighted avg       0.96      0.96      0.96      2023\n",
      "\n"
     ]
    }
   ],
   "source": [
    "target_names= ['Existing','Attrited']\n",
    "print(classification_report(y_val, prediction_val, target_names=target_names))"
   ]
  },
  {
   "cell_type": "markdown",
   "metadata": {},
   "source": [
    "#### Tuning Model"
   ]
  },
  {
   "cell_type": "code",
   "execution_count": 126,
   "metadata": {},
   "outputs": [],
   "source": [
    "#=========================================================================\n",
    "# exhaustively search for the optimal hyperparameters\n",
    "#=========================================================================\n",
    "# set up our search grid\n",
    "param_randomized={'n_estimators':np.arange(50,500,50),\n",
    "            'learning_rate':[0.01,0.1,0.2,0.05],\n",
    "            'scale_pos_weight':[2,5,10],\n",
    "            'gamma':[0,1,3,5],\n",
    "            'subsample':[0.5,0.8,0.9,1],\n",
    "            'max_depth':np.arange(4,20,1),\n",
    "            'reg_lambda':[5,10, 15, 20]}"
   ]
  },
  {
   "cell_type": "code",
   "execution_count": 127,
   "metadata": {},
   "outputs": [
    {
     "name": "stdout",
     "output_type": "stream",
     "text": [
      "The best hyperparameters are  {'subsample': 0.9, 'scale_pos_weight': 2, 'reg_lambda': 15, 'n_estimators': 350, 'max_depth': 7, 'learning_rate': 0.1, 'gamma': 0}\n"
     ]
    }
   ],
   "source": [
    "# Use random search to tune the model\n",
    "search = RandomizedSearchCV(classifier, param_randomized,n_iter=50, cv=10).fit(X_train_std, y_train)\n",
    "print(\"The best hyperparameters are \",search.best_params_)"
   ]
  },
  {
   "cell_type": "code",
   "execution_count": 128,
   "metadata": {},
   "outputs": [],
   "source": [
    "xgb_1= XGBClassifier( learning_rate = search.best_params_[\"learning_rate\"], \n",
    "                    n_estimators  = search.best_params_[\"n_estimators\"], \n",
    "                    max_depth= search.best_params_[\"max_depth\"],\n",
    "                    scale_pos_weight= search.best_params_[\"scale_pos_weight\"],\n",
    "                    gamma= search.best_params_[\"gamma\"],\n",
    "                    subsample= search.best_params_[\"subsample\"],\n",
    "                    reg_lambda= search.best_params_[\"reg_lambda\"],\n",
    "                    eval_metric=accuracy_score)"
   ]
  },
  {
   "cell_type": "code",
   "execution_count": 129,
   "metadata": {},
   "outputs": [
    {
     "data": {
      "text/plain": [
       "XGBClassifier(base_score=None, booster=None, callbacks=None,\n",
       "              colsample_bylevel=None, colsample_bynode=None,\n",
       "              colsample_bytree=None, early_stopping_rounds=None,\n",
       "              enable_categorical=False,\n",
       "              eval_metric=<function accuracy_score at 0x15d0d9940>,\n",
       "              feature_types=None, gamma=0, gpu_id=None, grow_policy=None,\n",
       "              importance_type=None, interaction_constraints=None,\n",
       "              learning_rate=0.1, max_bin=None, max_cat_threshold=None,\n",
       "              max_cat_to_onehot=None, max_delta_step=None, max_depth=7,\n",
       "              max_leaves=None, min_child_weight=None, missing=nan,\n",
       "              monotone_constraints=None, n_estimators=350, n_jobs=None,\n",
       "              num_parallel_tree=None, predictor=None, random_state=None, ...)"
      ]
     },
     "execution_count": 129,
     "metadata": {},
     "output_type": "execute_result"
    }
   ],
   "source": [
    "xgb_1.fit(X_train_std, y_train)\n"
   ]
  },
  {
   "cell_type": "code",
   "execution_count": 130,
   "metadata": {},
   "outputs": [],
   "source": [
    "training_prediction= xgb_1.predict(X_train_std)"
   ]
  },
  {
   "cell_type": "code",
   "execution_count": 131,
   "metadata": {},
   "outputs": [
    {
     "data": {
      "text/plain": [
       "<sklearn.metrics._plot.confusion_matrix.ConfusionMatrixDisplay at 0x177f89f40>"
      ]
     },
     "execution_count": 131,
     "metadata": {},
     "output_type": "execute_result"
    },
    {
     "data": {
      "image/png": "[encoded data removed]",
      "text/plain": [
       "<Figure size 640x480 with 2 Axes>"
      ]
     },
     "metadata": {},
     "output_type": "display_data"
    }
   ],
   "source": [
    "plot_confusion_matrix(xgb_1, X_train_std,y_train)"
   ]
  },
  {
   "cell_type": "code",
   "execution_count": 132,
   "metadata": {},
   "outputs": [
    {
     "name": "stdout",
     "output_type": "stream",
     "text": [
      "              precision    recall  f1-score   support\n",
      "\n",
      "    Existing       1.00      1.00      1.00      5092\n",
      "    Attrited       0.99      1.00      1.00       977\n",
      "\n",
      "    accuracy                           1.00      6069\n",
      "   macro avg       1.00      1.00      1.00      6069\n",
      "weighted avg       1.00      1.00      1.00      6069\n",
      "\n"
     ]
    }
   ],
   "source": [
    "target_names= ['Existing','Attrited']\n",
    "print(classification_report(y_train, training_prediction, target_names=target_names))"
   ]
  },
  {
   "cell_type": "code",
   "execution_count": 133,
   "metadata": {},
   "outputs": [
    {
     "data": {
      "text/plain": [
       "array([0, 0, 0, ..., 1, 0, 0])"
      ]
     },
     "execution_count": 133,
     "metadata": {},
     "output_type": "execute_result"
    }
   ],
   "source": [
    "predictions_1 = xgb_1.predict(X_val_std)\n",
    "predictions\n"
   ]
  },
  {
   "cell_type": "code",
   "execution_count": 134,
   "metadata": {},
   "outputs": [
    {
     "data": {
      "text/plain": [
       "<sklearn.metrics._plot.confusion_matrix.ConfusionMatrixDisplay at 0x172a78c40>"
      ]
     },
     "execution_count": 134,
     "metadata": {},
     "output_type": "execute_result"
    },
    {
     "data": {
      "image/png": "[encoded data removed]",
      "text/plain": [
       "<Figure size 640x480 with 2 Axes>"
      ]
     },
     "metadata": {},
     "output_type": "display_data"
    }
   ],
   "source": [
    "plot_confusion_matrix(xgb_1, X_val_std,y_val)"
   ]
  },
  {
   "cell_type": "code",
   "execution_count": 135,
   "metadata": {},
   "outputs": [
    {
     "name": "stdout",
     "output_type": "stream",
     "text": [
      "              precision    recall  f1-score   support\n",
      "\n",
      "    Existing       0.98      0.98      0.98      1698\n",
      "    Attrited       0.89      0.88      0.88       325\n",
      "\n",
      "    accuracy                           0.96      2023\n",
      "   macro avg       0.93      0.93      0.93      2023\n",
      "weighted avg       0.96      0.96      0.96      2023\n",
      "\n"
     ]
    }
   ],
   "source": [
    "target_names= ['Existing','Attrited']\n",
    "print(classification_report(y_val, predictions_1, target_names=target_names))"
   ]
  },
  {
   "cell_type": "markdown",
   "metadata": {},
   "source": [
    "##### Gridsearch tuning"
   ]
  },
  {
   "cell_type": "code",
   "execution_count": 156,
   "metadata": {},
   "outputs": [],
   "source": [
    "#=========================================================================\n",
    "# exhaustively search for the optimal hyperparameters\n",
    "#=========================================================================\n",
    "# set up our search grid\n",
    "param_grid = {\"max_depth\":[3, 4, 5],\n",
    "             \"n_estimators\": [200, 300, 500, 600, 700],\n",
    "            \"learning_rate\": [0.01, 0.1, 0.2]}\n"
   ]
  },
  {
   "cell_type": "code",
   "execution_count": 158,
   "metadata": {},
   "outputs": [
    {
     "name": "stdout",
     "output_type": "stream",
     "text": [
      "The best hyperparameters are  {'learning_rate': 0.2, 'max_depth': 3, 'n_estimators': 500}\n"
     ]
    }
   ],
   "source": [
    "grid_search = GridSearchCV(estimator=classifier, param_grid=param_grid, cv=5, scoring='recall').fit(X_train_std, y_train)\n",
    "print(\"The best hyperparameters are \",grid_search.best_params_)"
   ]
  },
  {
   "cell_type": "code",
   "execution_count": 162,
   "metadata": {},
   "outputs": [],
   "source": [
    "xgb_2= XGBClassifier(learning_rate = grid_search.best_params_[\"learning_rate\"], \n",
    "                        n_estimators  = grid_search.best_params_[\"n_estimators\"], \n",
    "                        max_depth= grid_search.best_params_[\"max_depth\"],eval_metric=recall_score)"
   ]
  },
  {
   "cell_type": "code",
   "execution_count": 163,
   "metadata": {},
   "outputs": [
    {
     "data": {
      "text/plain": [
       "XGBClassifier(base_score=None, booster=None, callbacks=None,\n",
       "              colsample_bylevel=None, colsample_bynode=None,\n",
       "              colsample_bytree=None, early_stopping_rounds=None,\n",
       "              enable_categorical=False,\n",
       "              eval_metric=<function recall_score at 0x15d0e0160>,\n",
       "              feature_types=None, gamma=None, gpu_id=None, grow_policy=None,\n",
       "              importance_type=None, interaction_constraints=None,\n",
       "              learning_rate=0.2, max_bin=None, max_cat_threshold=None,\n",
       "              max_cat_to_onehot=None, max_delta_step=None, max_depth=3,\n",
       "              max_leaves=None, min_child_weight=None, missing=nan,\n",
       "              monotone_constraints=None, n_estimators=500, n_jobs=None,\n",
       "              num_parallel_tree=None, predictor=None, random_state=None, ...)"
      ]
     },
     "execution_count": 163,
     "metadata": {},
     "output_type": "execute_result"
    }
   ],
   "source": [
    "xgb_2.fit(X_train_std, y_train)\n"
   ]
  },
  {
   "cell_type": "code",
   "execution_count": 164,
   "metadata": {},
   "outputs": [],
   "source": [
    "training_prediction_2= xgb_2.predict(X_train_std)"
   ]
  },
  {
   "cell_type": "code",
   "execution_count": 165,
   "metadata": {},
   "outputs": [
    {
     "data": {
      "text/plain": [
       "<sklearn.metrics._plot.confusion_matrix.ConfusionMatrixDisplay at 0x28009c580>"
      ]
     },
     "execution_count": 165,
     "metadata": {},
     "output_type": "execute_result"
    },
    {
     "data": {
      "image/png": "[encoded data removed]",
      "text/plain": [
       "<Figure size 640x480 with 2 Axes>"
      ]
     },
     "metadata": {},
     "output_type": "display_data"
    }
   ],
   "source": [
    "plot_confusion_matrix(xgb_2, X_train_std,y_train)"
   ]
  },
  {
   "cell_type": "code",
   "execution_count": 167,
   "metadata": {},
   "outputs": [
    {
     "name": "stdout",
     "output_type": "stream",
     "text": [
      "              precision    recall  f1-score   support\n",
      "\n",
      "    Existing       1.00      1.00      1.00      5092\n",
      "    Attrited       1.00      1.00      1.00       977\n",
      "\n",
      "    accuracy                           1.00      6069\n",
      "   macro avg       1.00      1.00      1.00      6069\n",
      "weighted avg       1.00      1.00      1.00      6069\n",
      "\n"
     ]
    }
   ],
   "source": [
    "target_names= ['Existing','Attrited']\n",
    "print(classification_report(y_train, training_prediction_2, target_names=target_names))"
   ]
  },
  {
   "cell_type": "code",
   "execution_count": 168,
   "metadata": {},
   "outputs": [],
   "source": [
    "prediction_2= xgb_2.predict(X_val_std)"
   ]
  },
  {
   "cell_type": "code",
   "execution_count": 169,
   "metadata": {},
   "outputs": [
    {
     "data": {
      "text/plain": [
       "<sklearn.metrics._plot.confusion_matrix.ConfusionMatrixDisplay at 0x28014a3d0>"
      ]
     },
     "execution_count": 169,
     "metadata": {},
     "output_type": "execute_result"
    },
    {
     "data": {
      "image/png": "[encoded data removed]",
      "text/plain": [
       "<Figure size 640x480 with 2 Axes>"
      ]
     },
     "metadata": {},
     "output_type": "display_data"
    }
   ],
   "source": [
    "plot_confusion_matrix(xgb_2, X_val_std,y_val)"
   ]
  },
  {
   "cell_type": "code",
   "execution_count": 170,
   "metadata": {},
   "outputs": [
    {
     "name": "stdout",
     "output_type": "stream",
     "text": [
      "              precision    recall  f1-score   support\n",
      "\n",
      "    Existing       0.97      0.98      0.98      1698\n",
      "    Attrited       0.91      0.86      0.88       325\n",
      "\n",
      "    accuracy                           0.96      2023\n",
      "   macro avg       0.94      0.92      0.93      2023\n",
      "weighted avg       0.96      0.96      0.96      2023\n",
      "\n"
     ]
    }
   ],
   "source": [
    "target_names= ['Existing','Attrited']\n",
    "print(classification_report(y_val, prediction_2, target_names=target_names))"
   ]
  },
  {
   "cell_type": "markdown",
   "metadata": {},
   "source": [
    "- With a high class imbalance, should go with the model with the higher recall. Hyperparameter tuning from randomized search yield a better result for recall.\n",
    "- Base model and Grid search model is overfitting to generalize the data set."
   ]
  },
  {
   "cell_type": "markdown",
   "metadata": {},
   "source": [
    "- Save model as joblib\n",
    "- create a script for model inferencing \n",
    "- wrap up in flask api and serve it"
   ]
  },
  {
   "cell_type": "markdown",
   "metadata": {},
   "source": [
    "### Create a Pipeline for model production"
   ]
  },
  {
   "cell_type": "code",
   "execution_count": null,
   "metadata": {},
   "outputs": [],
   "source": [
    "# Define the pipeline steps\n",
    "steps = [\n",
    "    ('scaler', StandardScaler()),  # StandardScaler for feature scaling\n",
    "    ('xgb', XGBClassifier())       # XGBoost classifier\n",
    "]\n",
    "\n",
    "# Create the pipeline\n",
    "xgb_pipeline = Pipeline(steps)\n",
    "\n",
    "# Fit the pipeline on your training data\n",
    "xgb_pipeline.fit(X_train, y_train)\n",
    "\n",
    "# Predict using the fitted pipeline\n",
    "y_pred = xgb_pipeline.predict(X_test)\n",
    "\n",
    "# Evaluate the pipeline's performance\n",
    "accuracy = accuracy_score(y_test, y_pred)\n",
    "print(\"Accuracy:\", accuracy)"
   ]
  },
  {
   "cell_type": "markdown",
   "metadata": {},
   "source": [
    "### Save Model"
   ]
  },
  {
   "cell_type": "code",
   "execution_count": 173,
   "metadata": {},
   "outputs": [],
   "source": [
    "# Save the trained model to a file\n",
    "with open('bank_churn_predict.pkl', 'wb') as file:\n",
    "    pickle.dump(xgb_1, file)"
   ]
  },
  {
   "cell_type": "code",
   "execution_count": 174,
   "metadata": {},
   "outputs": [],
   "source": [
    "# Load the saved model from file\n",
    "with open('bank_churn_predict.pkl', 'rb') as file:\n",
    "    churn_model = pickle.load(file)"
   ]
  },
  {
   "cell_type": "code",
   "execution_count": 177,
   "metadata": {},
   "outputs": [],
   "source": [
    "model_prediction=churn_model.predict(X_test_std)"
   ]
  },
  {
   "cell_type": "code",
   "execution_count": 178,
   "metadata": {},
   "outputs": [
    {
     "data": {
      "text/plain": [
       "0.8307692307692308"
      ]
     },
     "execution_count": 178,
     "metadata": {},
     "output_type": "execute_result"
    }
   ],
   "source": [
    "recall_score(y_test, model_prediction)"
   ]
  }
 ],
 "metadata": {
  "kernelspec": {
   "display_name": "LHL_Env",
   "language": "python",
   "name": "python3"
  },
  "language_info": {
   "codemirror_mode": {
    "name": "ipython",
    "version": 3
   },
   "file_extension": ".py",
   "mimetype": "text/x-python",
   "name": "python",
   "nbconvert_exporter": "python",
   "pygments_lexer": "ipython3",
   "version": "3.9.16"
  },
  "orig_nbformat": 4
 },
 "nbformat": 4,
 "nbformat_minor": 2
}
